{
 "cells": [
  {
   "cell_type": "markdown",
   "id": "f5210fe7-f025-43f9-8ba2-463e47599e93",
   "metadata": {},
   "source": [
    "<h1>Data Science Tools and Ecosystem</h1>"
   ]
  },
  {
   "cell_type": "markdown",
   "id": "8729fc11-9db4-443d-bba7-0d06dfc588b2",
   "metadata": {},
   "source": [
    "Objectives:\n",
    "- Listing popular languages of data science\n",
    "- Introduction to commonly used data science tools\n",
    "- Using Git for working with repositories\n",
    "- Getting started with R and Python, their libraries and visualization "
   ]
  },
  {
   "cell_type": "markdown",
   "id": "5b6eec1e-c671-4665-9d81-80d6f4cff8ae",
   "metadata": {},
   "source": [
    "<h2>Author</h2>\n",
    "Jasleen Kaur"
   ]
  },
  {
   "cell_type": "markdown",
   "id": "c478a611-4859-4860-bb6a-db199e6b1f9a",
   "metadata": {},
   "source": [
    "In this notebook, Data Science Tools and Ecosystem are summarized."
   ]
  },
  {
   "cell_type": "markdown",
   "id": "3e6b0445-8b7d-4cc0-9b5e-df5ab8f9c640",
   "metadata": {},
   "source": [
    "Some of the popular languages that Data Scientists use are:\n",
    "1. R\n",
    "2. Python\n",
    "3. Scala\n",
    "4. Julia"
   ]
  },
  {
   "cell_type": "markdown",
   "id": "587edc1d-f0ad-4620-9bce-981e9a3af671",
   "metadata": {},
   "source": [
    "Some of the commonly used libraries used by Data Scientists include:\r",
    "1. Matplotlib\n",
    "2. TensorFlow\n",
    "3. Pandas\n",
    "4. Keras\n"
   ]
  },
  {
   "cell_type": "markdown",
   "id": "a33712c4-9397-4b44-ab26-1cd6e11edd46",
   "metadata": {},
   "source": [
    "|Data Science Tools|\n",
    "|:------------------|\n",
    "|Apache Spark|\n",
    "|Jupyter Notebook|\n",
    "|KNIME|"
   ]
  },
  {
   "cell_type": "markdown",
   "id": "9a97c6dc-d81b-4c15-ab9c-665a784e109a",
   "metadata": {},
   "source": [
    "<h3>Below are a few examples of evaluating arithmetic expressions in Python.</h3>\n"
   ]
  },
  {
   "cell_type": "code",
   "execution_count": 3,
   "id": "b62c4a1a-2598-463a-a74b-e79bc568d533",
   "metadata": {},
   "outputs": [
    {
     "data": {
      "text/plain": [
       "17"
      ]
     },
     "execution_count": 3,
     "metadata": {},
     "output_type": "execute_result"
    }
   ],
   "source": [
    "# This a simple arithmetic expression to mutiply then add integers\n",
    "(3*4)+5"
   ]
  },
  {
   "cell_type": "code",
   "execution_count": 9,
   "id": "53c52365-be82-4901-96fe-e93394eeb009",
   "metadata": {},
   "outputs": [
    {
     "data": {
      "text/plain": [
       "3.3333333333333335"
      ]
     },
     "execution_count": 9,
     "metadata": {},
     "output_type": "execute_result"
    }
   ],
   "source": [
    "# This will convert 200 minutes to hours by diving by 60\n",
    "200/60"
   ]
  }
 ],
 "metadata": {
  "kernelspec": {
   "display_name": "Python 3 (ipykernel)",
   "language": "python",
   "name": "python3"
  },
  "language_info": {
   "codemirror_mode": {
    "name": "ipython",
    "version": 3
   },
   "file_extension": ".py",
   "mimetype": "text/x-python",
   "name": "python",
   "nbconvert_exporter": "python",
   "pygments_lexer": "ipython3",
   "version": "3.11.9"
  }
 },
 "nbformat": 4,
 "nbformat_minor": 5
}
